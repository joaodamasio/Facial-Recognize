{
 "cells": [
  {
   "cell_type": "code",
   "execution_count": 2,
   "id": "1492d321",
   "metadata": {},
   "outputs": [],
   "source": [
    "import cv2\n",
    "import mediapipe as mp"
   ]
  },
  {
   "cell_type": "code",
   "execution_count": 3,
   "id": "6b520aed",
   "metadata": {},
   "outputs": [],
   "source": [
    "# inicializando o opencv e o mediapipe\n",
    "webcam = cv2.VideoCapture(0)\n",
    "solucao_reconhecimento_rosto = mp.solutions.face_detection\n",
    "reconhecedor_rosto =solucao_reconhecimento_rosto.FaceDetection()\n",
    "desenho = mp.solutions.drawing_utils\n",
    "\n",
    "while True:\n",
    "    # ler as informações da webcam\n",
    "    verificador, frame = webcam.read()\n",
    "    \n",
    "    if not verificador:\n",
    "        break\n",
    "        \n",
    "    # reconhece os rostos\n",
    "    lista_rostos = reconhecedor_rosto.process(frame)\n",
    "    \n",
    "    if lista_rostos.detections:\n",
    "        for rosto in lista_rostos.detections:\n",
    "            # desenha o rosto\n",
    "            desenho.draw_detection(frame, rosto)\n",
    "    cv2.imshow(\"Reconhecimento\",frame)\n",
    "    \n",
    "    # quando aperta ESC para o loop\n",
    "    if cv2.waitKey(4) == 27:\n",
    "        break\n",
    "webcam.release()\n",
    "cv2.destroyAllWindows()"
   ]
  },
  {
   "cell_type": "code",
   "execution_count": null,
   "id": "c06817c8",
   "metadata": {},
   "outputs": [],
   "source": []
  }
 ],
 "metadata": {
  "kernelspec": {
   "display_name": "Python 3 (ipykernel)",
   "language": "python",
   "name": "python3"
  },
  "language_info": {
   "codemirror_mode": {
    "name": "ipython",
    "version": 3
   },
   "file_extension": ".py",
   "mimetype": "text/x-python",
   "name": "python",
   "nbconvert_exporter": "python",
   "pygments_lexer": "ipython3",
   "version": "3.10.9"
  }
 },
 "nbformat": 4,
 "nbformat_minor": 5
}
